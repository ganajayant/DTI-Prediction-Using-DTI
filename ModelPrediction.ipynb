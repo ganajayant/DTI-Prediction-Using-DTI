{
 "cells": [
  {
   "cell_type": "code",
   "execution_count": 4,
   "metadata": {},
   "outputs": [],
   "source": [
    "import torch\n",
    "import torch.nn as nn\n",
    "import torch.nn.functional as F\n",
    "from sklearn.model_selection import train_test_split\n",
    "from torch.utils.data import DataLoader\n",
    "from torch_geometric import data as DATA\n",
    "from torch_geometric.nn import GCNConv, global_max_pool"
   ]
  },
  {
   "cell_type": "code",
   "execution_count": 5,
   "metadata": {},
   "outputs": [
    {
     "name": "stderr",
     "output_type": "stream",
     "text": [
      "c:\\Users\\saivi\\AppData\\Local\\Programs\\Python\\Python38\\lib\\site-packages\\torch_geometric\\deprecation.py:22: UserWarning: 'data.DataLoader' is deprecated, use 'loader.DataLoader' instead\n",
      "  warnings.warn(out)\n"
     ]
    }
   ],
   "source": [
    "# now we have a new dataset, which is a list of GCN_DATA convert into dataloader\n",
    "dataset = torch.load('preprocessed_dataset.pt')\n",
    "train_dataset, test_dataset = train_test_split(\n",
    "    dataset, test_size=0.2, random_state=42)\n",
    "train_dataset, val_dataset = train_test_split(\n",
    "    train_dataset, test_size=0.2, random_state=42)\n",
    "train_loader = DATA.DataLoader(\n",
    "    train_dataset, batch_size=32, shuffle=True, drop_last=True)\n",
    "val_loader = DATA.DataLoader(val_dataset,  shuffle=True, drop_last=True)\n",
    "test_loader = DATA.DataLoader(test_dataset,  shuffle=True, drop_last=True)\n"
   ]
  },
  {
   "cell_type": "code",
   "execution_count": 6,
   "metadata": {},
   "outputs": [],
   "source": [
    "# ignore warnings\n",
    "import warnings\n",
    "warnings.filterwarnings(\"ignore\")"
   ]
  },
  {
   "cell_type": "code",
   "execution_count": 7,
   "metadata": {},
   "outputs": [],
   "source": [
    "def Model():\n",
    "    class GCNNet(torch.nn.Module):\n",
    "        def __init__(self, n_output=2, n_filters=32, embed_dim=128, num_features_xd=78, num_features_xt=25, output_dim=128, dropout=0.2):\n",
    "\n",
    "            super(GCNNet, self).__init__()\n",
    "\n",
    "            self.n_output = n_output\n",
    "            self.conv1 = GCNConv(num_features_xd, num_features_xd)\n",
    "            self.conv2 = GCNConv(num_features_xd, num_features_xd*2)\n",
    "            self.conv3 = GCNConv(num_features_xd*2, num_features_xd * 4)\n",
    "            self.fc_g1 = torch.nn.Linear(num_features_xd*4, 1024)\n",
    "            self.fc_g2 = torch.nn.Linear(1024, output_dim)\n",
    "            self.relu = nn.ReLU()\n",
    "            self.dropout = nn.Dropout(dropout)\n",
    "\n",
    "            self.embedding_xt = nn.Embedding(num_features_xt + 1, embed_dim)\n",
    "            self.conv_xt_1 = nn.Conv1d(\n",
    "                in_channels=1000, out_channels=n_filters, kernel_size=8)\n",
    "            self.fc1_xt = nn.Linear(32*121, output_dim)\n",
    "\n",
    "            self.fc1 = nn.Linear(2*output_dim, 1024)\n",
    "            self.fc2 = nn.Linear(1024, 512)\n",
    "            self.out = nn.Linear(512, self.n_output)\n",
    "\n",
    "        def forward(self, data):\n",
    "            # get graph input\n",
    "            x, edge_index, batch = data.x, data.edge_index, data.batch\n",
    "            # get protein input\n",
    "            target = data.target\n",
    "\n",
    "            x = self.conv1(x, edge_index)\n",
    "            x = self.relu(x)\n",
    "\n",
    "            x = self.conv2(x, edge_index)\n",
    "            x = self.relu(x)\n",
    "\n",
    "            x = self.conv3(x, edge_index)\n",
    "            x = self.relu(x)\n",
    "            x = global_max_pool(x, batch)       # global max pooling\n",
    "\n",
    "            # flatten\n",
    "            x = self.relu(self.fc_g1(x))\n",
    "            x = self.dropout(x)\n",
    "            x = self.fc_g2(x)\n",
    "            x = self.dropout(x)\n",
    "\n",
    "            # 1d conv layers\n",
    "            embedded_xt = self.embedding_xt(target)\n",
    "            conv_xt = self.conv_xt_1(embedded_xt)\n",
    "            # flatten\n",
    "            xt = conv_xt.view(-1, 32 * 121)\n",
    "            xt = self.fc1_xt(xt)\n",
    "\n",
    "            # concat\n",
    "            xc = torch.cat((x, xt), 1)\n",
    "            # add some dense layers\n",
    "            xc = self.fc1(xc)\n",
    "            xc = self.relu(xc)\n",
    "            xc = self.dropout(xc)\n",
    "            xc = self.fc2(xc)\n",
    "            xc = self.relu(xc)\n",
    "            xc = self.dropout(xc)\n",
    "            out = self.out(xc)\n",
    "            return out\n",
    "    model = GCNNet()\n",
    "    optimizer = torch.optim.Adam(model.parameters(), lr=0.001)\n",
    "    loss_function = nn.CrossEntropyLoss()\n",
    "    return model, optimizer, loss_function\n"
   ]
  },
  {
   "cell_type": "code",
   "execution_count": 8,
   "metadata": {},
   "outputs": [],
   "source": [
    "def TrainTheModel(num_epochs=20):\n",
    "    model, optimizer, loss_function = Model()\n",
    "    train_loss = torch.zeros(num_epochs)\n",
    "    valid_loss = torch.zeros(num_epochs)\n",
    "    train_acc = torch.zeros(num_epochs)\n",
    "    valid_acc = torch.zeros(num_epochs)\n",
    "    for epoch in range(num_epochs):\n",
    "        model.train()\n",
    "        for batch_idx, data in enumerate(train_loader):\n",
    "            optimizer.zero_grad()\n",
    "            out = model(data)\n",
    "            loss = loss_function(out, data.y)\n",
    "            loss.backward()\n",
    "            optimizer.step()\n",
    "            train_loss[epoch] += loss.item()\n",
    "            pred = out.max(1)[1]\n",
    "            train_acc[epoch] += pred.eq(data.y).sum().item()\n",
    "        train_loss[epoch] /= len(train_loader.dataset)\n",
    "        train_acc[epoch] /= len(train_loader.dataset)\n",
    "\n",
    "        model.eval()\n",
    "        for data in val_loader:\n",
    "            out = model(data)\n",
    "            loss = loss_function(out, data.y)\n",
    "            valid_loss[epoch] += loss.item()\n",
    "            pred = out.max(1)[1]\n",
    "            valid_acc[epoch] += pred.eq(data.y).sum().item()\n",
    "        valid_loss[epoch] /= len(val_loader.dataset)\n",
    "        valid_acc[epoch] /= len(val_loader.dataset)\n",
    "        print('Epoch: {:03d}, Train Loss: {:.5f}, Train Acc: {:.5f}, Val Loss: {:.5f}, Val Acc: {:.5f}'.format(\n",
    "            epoch, train_loss[epoch], train_acc[epoch], valid_loss[epoch], valid_acc[epoch]))\n",
    "    return model, train_loss, valid_loss, train_acc, valid_acc\n"
   ]
  },
  {
   "cell_type": "code",
   "execution_count": 17,
   "metadata": {},
   "outputs": [
    {
     "name": "stdout",
     "output_type": "stream",
     "text": [
      "Epoch: 000, Train Loss: 0.01373, Train Acc: 0.82010, Val Loss: 0.43915, Val Acc: 0.82201\n",
      "Epoch: 001, Train Loss: 0.01154, Train Acc: 0.82407, Val Loss: 0.40426, Val Acc: 0.80244\n",
      "Epoch: 002, Train Loss: 0.01057, Train Acc: 0.83561, Val Loss: 0.41157, Val Acc: 0.81942\n",
      "Epoch: 003, Train Loss: 0.01062, Train Acc: 0.83995, Val Loss: 0.46053, Val Acc: 0.82903\n",
      "Epoch: 004, Train Loss: 0.01035, Train Acc: 0.84374, Val Loss: 0.41961, Val Acc: 0.83641\n",
      "Epoch: 005, Train Loss: 0.00982, Train Acc: 0.85297, Val Loss: 0.43978, Val Acc: 0.82201\n",
      "Epoch: 006, Train Loss: 0.00965, Train Acc: 0.85417, Val Loss: 0.44773, Val Acc: 0.83235\n",
      "Epoch: 007, Train Loss: 0.00923, Train Acc: 0.86738, Val Loss: 0.45371, Val Acc: 0.83124\n",
      "Epoch: 008, Train Loss: 0.00890, Train Acc: 0.87763, Val Loss: 0.58043, Val Acc: 0.84195\n",
      "Epoch: 009, Train Loss: 0.00851, Train Acc: 0.88123, Val Loss: 0.41832, Val Acc: 0.83900\n",
      "Epoch: 010, Train Loss: 0.00836, Train Acc: 0.88428, Val Loss: 0.53121, Val Acc: 0.83863\n",
      "Epoch: 011, Train Loss: 0.00824, Train Acc: 0.88465, Val Loss: 0.43940, Val Acc: 0.84158\n",
      "Epoch: 012, Train Loss: 0.00813, Train Acc: 0.88733, Val Loss: 0.94066, Val Acc: 0.83936\n",
      "Epoch: 013, Train Loss: 0.00774, Train Acc: 0.88871, Val Loss: 0.56716, Val Acc: 0.84453\n",
      "Epoch: 014, Train Loss: 0.00770, Train Acc: 0.88918, Val Loss: 0.78295, Val Acc: 0.84121\n",
      "Epoch: 015, Train Loss: 0.00713, Train Acc: 0.89324, Val Loss: 1.35152, Val Acc: 0.84084\n",
      "Epoch: 016, Train Loss: 0.00772, Train Acc: 0.88973, Val Loss: 0.72648, Val Acc: 0.84306\n",
      "Epoch: 017, Train Loss: 0.00734, Train Acc: 0.89121, Val Loss: 0.88212, Val Acc: 0.85118\n",
      "Epoch: 018, Train Loss: 0.00732, Train Acc: 0.89379, Val Loss: 0.84096, Val Acc: 0.84860\n",
      "Epoch: 019, Train Loss: 0.00761, Train Acc: 0.89352, Val Loss: 1.23144, Val Acc: 0.84786\n"
     ]
    }
   ],
   "source": [
    "model, train_loss, valid_loss, train_acc, valid_acc = TrainTheModel()"
   ]
  },
  {
   "cell_type": "code",
   "execution_count": 18,
   "metadata": {},
   "outputs": [],
   "source": [
    "# Save the weights of the model to a pickle file\n",
    "torch.save(model.state_dict(), 'model_weights.pt')"
   ]
  },
  {
   "cell_type": "code",
   "execution_count": 19,
   "metadata": {},
   "outputs": [
    {
     "name": "stdout",
     "output_type": "stream",
     "text": [
      "Precision: 0.80999\n",
      "Specificty: 0.80999\n",
      "Test Accuracy: 0.85934\n"
     ]
    }
   ],
   "source": [
    "from sklearn.metrics import precision_score, recall_score\n",
    "\n",
    "model.eval()\n",
    "test_acc = 0\n",
    "precision = 0\n",
    "specificty = 0\n",
    "for data in test_loader:\n",
    "    out = model(data)\n",
    "    pred = out.max(1)[1]\n",
    "    test_acc += pred.eq(data.y).sum().item()\n",
    "    precision += precision_score(data.y, pred)\n",
    "    specificty += recall_score(data.y, pred)\n",
    "precision /= len(test_loader.dataset)\n",
    "specificty /= len(test_loader.dataset)\n",
    "test_acc /= len(test_loader.dataset)\n",
    "print('Precision: {:.5f}'.format(precision))\n",
    "print('Specificty: {:.5f}'.format(specificty))\n",
    "print('Test Accuracy: {:.5f}'.format(test_acc))\n",
    "\n",
    "\n"
   ]
  },
  {
   "cell_type": "code",
   "execution_count": 21,
   "metadata": {},
   "outputs": [
    {
     "name": "stdout",
     "output_type": "stream",
     "text": [
      "F1 Score: 0.80999\n"
     ]
    }
   ],
   "source": [
    "# Print f1 score\n",
    "f1_score = 2 * (precision * specificty) / (precision + specificty)\n",
    "print('F1 Score: {:.5f}'.format(f1_score))\n"
   ]
  },
  {
   "cell_type": "code",
   "execution_count": 23,
   "metadata": {},
   "outputs": [
    {
     "data": {
      "image/png": "[encoded data removed]",
      "text/plain": [
       "<Figure size 640x480 with 1 Axes>"
      ]
     },
     "metadata": {},
     "output_type": "display_data"
    }
   ],
   "source": [
    "# PLot AUC-ROC curve\n",
    "import matplotlib.pyplot as plt\n",
    "from sklearn.metrics import roc_curve, auc\n",
    "\n",
    "model.eval()\n",
    "y_true = []\n",
    "y_pred = []\n",
    "for data in test_loader:\n",
    "    out = model(data)\n",
    "    pred = out.max(1)[1]\n",
    "    y_true.append(data.y)\n",
    "    y_pred.append(pred)\n",
    "y_true = torch.cat(y_true)\n",
    "y_pred = torch.cat(y_pred)\n",
    "fpr, tpr, _ = roc_curve(y_true, y_pred)\n",
    "roc_auc = auc(fpr, tpr)\n",
    "plt.figure()\n",
    "lw = 2\n",
    "plt.plot(fpr, tpr, color='darkorange',\n",
    "            lw=lw, label='ROC curve (area = %0.2f)' % roc_auc)\n",
    "plt.plot([0, 1], [0, 1], color='navy', lw=lw, linestyle='--')\n",
    "plt.xlim([0.0, 1.0])\n",
    "plt.ylim([0.0, 1.05])\n",
    "plt.xlabel('False Positive Rate')\n",
    "plt.ylabel('True Positive Rate')\n",
    "plt.title('Receiver operating characteristic example')\n",
    "plt.legend(loc=\"lower right\")\n",
    "plt.show()\n",
    "\n"
   ]
  }
 ],
 "metadata": {
  "kernelspec": {
   "display_name": "Python 3",
   "language": "python",
   "name": "python3"
  },
  "language_info": {
   "codemirror_mode": {
    "name": "ipython",
    "version": 3
   },
   "file_extension": ".py",
   "mimetype": "text/x-python",
   "name": "python",
   "nbconvert_exporter": "python",
   "pygments_lexer": "ipython3",
   "version": "3.8.0"
  },
  "orig_nbformat": 4,
  "vscode": {
   "interpreter": {
    "hash": "8b19b46d66d21ed878d7479c740a53ebae5b614c812aabd7ad3de252e90c6a0c"
   }
  }
 },
 "nbformat": 4,
 "nbformat_minor": 2
}
