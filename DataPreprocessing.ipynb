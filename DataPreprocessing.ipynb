{
 "cells": [
  {
   "cell_type": "code",
   "execution_count": 1,
   "metadata": {},
   "outputs": [],
   "source": [
    "import ast\n",
    "from collections import Counter\n",
    "from time import sleep\n",
    "from urllib.request import Request, urlopen\n",
    "\n",
    "import numpy as np\n",
    "import pandas as pd\n",
    "from bs4 import BeautifulSoup"
   ]
  },
  {
   "cell_type": "code",
   "execution_count": 2,
   "metadata": {},
   "outputs": [],
   "source": [
    "df = pd.concat([pd.read_csv(\"initial_dataset/train.csv\")[[\"Drug_ID\", \"Protein_ID\"]], \\\n",
    "                pd.read_csv(\"initial_dataset/val.csv\")[[\"Drug_ID\", \"Protein_ID\"]], \\\n",
    "                pd.read_csv(\"initial_dataset/test.csv\")[[\"Drug_ID\", \"Protein_ID\"]]])"
   ]
  },
  {
   "cell_type": "code",
   "execution_count": 3,
   "metadata": {},
   "outputs": [
    {
     "data": {
      "text/plain": [
       "(2325, 5017)"
      ]
     },
     "execution_count": 3,
     "metadata": {},
     "output_type": "execute_result"
    }
   ],
   "source": [
    "cID = np.array(list(Counter(np.concatenate((df[\"Drug_ID\"].values, df[\"Protein_ID\"].values))).keys()))\n",
    "DB_ID = [x for x in cID if x[0] == \"D\"]\n",
    "prot_ID = [x for x in cID if x[0] != \"D\"][1:]\n",
    "len(prot_ID), len(DB_ID)"
   ]
  },
  {
   "cell_type": "markdown",
   "metadata": {},
   "source": [
    "### Protein ID to Sequnce"
   ]
  },
  {
   "cell_type": "code",
   "execution_count": 4,
   "metadata": {
    "scrolled": true
   },
   "outputs": [],
   "source": [
    "# %%time\n",
    "\n",
    "# seq = {}\n",
    "\n",
    "# baseUrl = \"http://www.uniprot.org/uniprot/\"\n",
    "# maxTries = 3\n",
    "# for i in tqdm(prot_ID):\n",
    "#     currentUrl = baseUrl + i + \".fasta\"\n",
    "#     delay = 5\n",
    "#     for _ in range(maxTries):\n",
    "#         try:\n",
    "#             page = urlopen(currentUrl)\n",
    "#             html = page.read().decode(\"utf-8\")\n",
    "#             soup = BeautifulSoup(html, \"html.parser\")\n",
    "#             seq[i] = soup.text\n",
    "#             break\n",
    "#         except:\n",
    "#             sleep(delay)\n",
    "#             delay *= 2\n",
    "            \n",
    "# for i in seq.keys():\n",
    "#     seq[i] = ''.join(seq[i].split(\"\\n\")[1:])"
   ]
  },
  {
   "cell_type": "code",
   "execution_count": 5,
   "metadata": {},
   "outputs": [],
   "source": [
    "# # save prot_ID\n",
    "# file = open('prot_ID.txt', 'wt')\n",
    "# file.write(str(seq))\n",
    "# file.close()"
   ]
  },
  {
   "cell_type": "code",
   "execution_count": 6,
   "metadata": {},
   "outputs": [],
   "source": [
    "# # load prot_ID\n",
    "file = open('prot_ID.txt', 'r')\n",
    "seq = ast.literal_eval(file.read())"
   ]
  },
  {
   "cell_type": "markdown",
   "metadata": {},
   "source": [
    "### Durg ID to Chemical Formula"
   ]
  },
  {
   "cell_type": "code",
   "execution_count": 7,
   "metadata": {},
   "outputs": [],
   "source": [
    "db_seq = {}\n",
    "notFetched = []"
   ]
  },
  {
   "cell_type": "code",
   "execution_count": 8,
   "metadata": {},
   "outputs": [],
   "source": [
    "# %%time\n",
    "\n",
    "# baseUrl = \"https://go.drugbank.com/drugs/\"\n",
    "\n",
    "# for i in (DB_ID):\n",
    "#     try:\n",
    "#         url = baseUrl + i\n",
    "#         req = Request(url , headers={'User-Agent': 'Mozilla/5.0'})\n",
    "#         page = urlopen(req)\n",
    "#         html = page.read().decode(\"utf-8\")\n",
    "#         soup = BeautifulSoup(html, \"html.parser\")\n",
    "\n",
    "#         d = soup.find_all(\"div\", attrs={\"class\": \"wrap\"})\n",
    "#         db_seq[i] = d[2].text\n",
    "#     except:\n",
    "#         notFetched.append(i)\n",
    "#         continue"
   ]
  },
  {
   "cell_type": "code",
   "execution_count": 9,
   "metadata": {},
   "outputs": [],
   "source": [
    "# # save drug_ID\n",
    "# file = open('drug_ID.txt', 'wt')\n",
    "# file.write(str(db_seq))\n",
    "# file.close()"
   ]
  },
  {
   "cell_type": "code",
   "execution_count": 10,
   "metadata": {},
   "outputs": [],
   "source": [
    "# # load drug_ID\n",
    "file = open('drug_ID.txt', 'r')\n",
    "db_seq = ast.literal_eval(file.read())"
   ]
  },
  {
   "cell_type": "markdown",
   "metadata": {},
   "source": [
    "### Replacing ID"
   ]
  },
  {
   "cell_type": "code",
   "execution_count": 11,
   "metadata": {},
   "outputs": [],
   "source": [
    "df = pd.concat([pd.read_csv(\"initial_dataset/train.csv\")[[\"Drug_ID\", \"Protein_ID\", \"label\"]], \n",
    "                pd.read_csv(\"initial_dataset/val.csv\")[[\"Drug_ID\", \"Protein_ID\", \"label\"]], \n",
    "                pd.read_csv(\"initial_dataset/test.csv\")[[\"Drug_ID\", \"Protein_ID\", \"label\"]]])"
   ]
  },
  {
   "cell_type": "code",
   "execution_count": 12,
   "metadata": {},
   "outputs": [],
   "source": [
    "df = df[df[\"Drug_ID\"].isin(set(list(db_seq.keys())))]"
   ]
  },
  {
   "cell_type": "code",
   "execution_count": 13,
   "metadata": {},
   "outputs": [],
   "source": [
    "df = df[df[\"Protein_ID\"].isin(set(list(seq.keys())))]"
   ]
  },
  {
   "cell_type": "code",
   "execution_count": 14,
   "metadata": {},
   "outputs": [],
   "source": [
    "newdf = pd.DataFrame(columns=[\"Drug\", \"Protien\", \"label\"]) \n",
    "newdf[\"Drug\"] = df[\"Drug_ID\"].apply(lambda x: db_seq[x])\n",
    "newdf[\"Protien\"] = df[\"Protein_ID\"].apply(lambda x: seq[x])\n",
    "newdf[\"label\"] = df[\"label\"]"
   ]
  },
  {
   "cell_type": "code",
   "execution_count": 15,
   "metadata": {},
   "outputs": [
    {
     "data": {
      "text/html": [
       "<div>\n",
       "<style scoped>\n",
       "    .dataframe tbody tr th:only-of-type {\n",
       "        vertical-align: middle;\n",
       "    }\n",
       "\n",
       "    .dataframe tbody tr th {\n",
       "        vertical-align: top;\n",
       "    }\n",
       "\n",
       "    .dataframe thead th {\n",
       "        text-align: right;\n",
       "    }\n",
       "</style>\n",
       "<table border=\"1\" class=\"dataframe\">\n",
       "  <thead>\n",
       "    <tr style=\"text-align: right;\">\n",
       "      <th></th>\n",
       "      <th>Drug</th>\n",
       "      <th>Protien</th>\n",
       "      <th>label</th>\n",
       "    </tr>\n",
       "  </thead>\n",
       "  <tbody>\n",
       "    <tr>\n",
       "      <th>0</th>\n",
       "      <td>IC1=CNN=C1</td>\n",
       "      <td>MSTAGKVIKCKAAVLWEVKKPFSIEDVEVAPPKAYEVRIKMVAVGI...</td>\n",
       "      <td>1</td>\n",
       "    </tr>\n",
       "    <tr>\n",
       "      <th>1</th>\n",
       "      <td>CC(=O)NC1=CNN=C1C(=O)NC1=CC=C(F)C=C1</td>\n",
       "      <td>MENFQKVEKIGEGTYGVVYKARNKLTGEVVALKKIRLDTETEGVPS...</td>\n",
       "      <td>1</td>\n",
       "    </tr>\n",
       "    <tr>\n",
       "      <th>2</th>\n",
       "      <td>CN(C)CCCN1C2=CC=CC=C2CCC2=C1C=C(Cl)C=C2</td>\n",
       "      <td>MLLARMNPQVQPENNGADTGPEQPLRARKTAELLVVKERNGVQCLL...</td>\n",
       "      <td>1</td>\n",
       "    </tr>\n",
       "    <tr>\n",
       "      <th>3</th>\n",
       "      <td>ClC1=CC=CC(N2CCN(CCCCOC3=CC4=C(CCC(=O)N4)C=C3)...</td>\n",
       "      <td>MANFTPVNGSSGNQSVRLVTSSSHNRYETVEMVFIATVTGSLSLVT...</td>\n",
       "      <td>1</td>\n",
       "    </tr>\n",
       "    <tr>\n",
       "      <th>4</th>\n",
       "      <td>OC1N=C(C2=CC=CC=C2Cl)C2=C(NC1=O)C=CC(Cl)=C2</td>\n",
       "      <td>MVSAKKVPAIALSAGVSFALLRFLCLAVCLNESPGQNQKEEKLCTE...</td>\n",
       "      <td>1</td>\n",
       "    </tr>\n",
       "  </tbody>\n",
       "</table>\n",
       "</div>"
      ],
      "text/plain": [
       "                                                Drug  \\\n",
       "0                                         IC1=CNN=C1   \n",
       "1               CC(=O)NC1=CNN=C1C(=O)NC1=CC=C(F)C=C1   \n",
       "2            CN(C)CCCN1C2=CC=CC=C2CCC2=C1C=C(Cl)C=C2   \n",
       "3  ClC1=CC=CC(N2CCN(CCCCOC3=CC4=C(CCC(=O)N4)C=C3)...   \n",
       "4        OC1N=C(C2=CC=CC=C2Cl)C2=C(NC1=O)C=CC(Cl)=C2   \n",
       "\n",
       "                                             Protien  label  \n",
       "0  MSTAGKVIKCKAAVLWEVKKPFSIEDVEVAPPKAYEVRIKMVAVGI...      1  \n",
       "1  MENFQKVEKIGEGTYGVVYKARNKLTGEVVALKKIRLDTETEGVPS...      1  \n",
       "2  MLLARMNPQVQPENNGADTGPEQPLRARKTAELLVVKERNGVQCLL...      1  \n",
       "3  MANFTPVNGSSGNQSVRLVTSSSHNRYETVEMVFIATVTGSLSLVT...      1  \n",
       "4  MVSAKKVPAIALSAGVSFALLRFLCLAVCLNESPGQNQKEEKLCTE...      1  "
      ]
     },
     "execution_count": 15,
     "metadata": {},
     "output_type": "execute_result"
    }
   ],
   "source": [
    "newdf.head()"
   ]
  },
  {
   "cell_type": "code",
   "execution_count": 16,
   "metadata": {},
   "outputs": [],
   "source": [
    "newdf.to_csv(\"preprocessed_data.csv\", index=False)"
   ]
  }
 ],
 "metadata": {
  "colab": {
   "provenance": []
  },
  "kernelspec": {
   "display_name": "Python 3",
   "language": "python",
   "name": "python3"
  },
  "language_info": {
   "codemirror_mode": {
    "name": "ipython",
    "version": 3
   },
   "file_extension": ".py",
   "mimetype": "text/x-python",
   "name": "python",
   "nbconvert_exporter": "python",
   "pygments_lexer": "ipython3",
   "version": "3.10.6"
  }
 },
 "nbformat": 4,
 "nbformat_minor": 1
}
