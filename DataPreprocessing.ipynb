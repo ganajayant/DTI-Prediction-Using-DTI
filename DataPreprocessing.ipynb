{
 "cells": [
  {
   "cell_type": "code",
   "execution_count": null,
   "metadata": {},
   "outputs": [],
   "source": [
    "import ast\n",
    "from collections import Counter\n",
    "from time import sleep\n",
    "from urllib.request import Request, urlopen\n",
    "\n",
    "import numpy as np\n",
    "import pandas as pd\n",
    "from bs4 import BeautifulSoup"
   ]
  },
  {
   "cell_type": "code",
   "execution_count": null,
   "metadata": {},
   "outputs": [],
   "source": [
    "df = pd.concat([pd.read_csv(\"initial_dataset/train.csv\")[[\"Drug_ID\", \"Protein_ID\"]], \\\n",
    "                pd.read_csv(\"initial_dataset/val.csv\")[[\"Drug_ID\", \"Protein_ID\"]], \\\n",
    "                pd.read_csv(\"initial_dataset/test.csv\")[[\"Drug_ID\", \"Protein_ID\"]]])"
   ]
  },
  {
   "cell_type": "code",
   "execution_count": null,
   "metadata": {},
   "outputs": [],
   "source": [
    "cID = np.array(list(Counter(np.concatenate((df[\"Drug_ID\"].values, df[\"Protein_ID\"].values))).keys()))\n",
    "DB_ID = [x for x in cID if x[0] == \"D\"]\n",
    "prot_ID = [x for x in cID if x[0] != \"D\"][1:]\n",
    "len(prot_ID), len(DB_ID)"
   ]
  },
  {
   "cell_type": "markdown",
   "metadata": {},
   "source": [
    "### Protein ID to Sequnce"
   ]
  },
  {
   "cell_type": "code",
   "execution_count": null,
   "metadata": {
    "scrolled": true
   },
   "outputs": [],
   "source": [
    "# %%time\n",
    "\n",
    "# seq = {}\n",
    "\n",
    "# baseUrl = \"http://www.uniprot.org/uniprot/\"\n",
    "# maxTries = 3\n",
    "# for i in tqdm(prot_ID):\n",
    "#     currentUrl = baseUrl + i + \".fasta\"\n",
    "#     delay = 5\n",
    "#     for _ in range(maxTries):\n",
    "#         try:\n",
    "#             page = urlopen(currentUrl)\n",
    "#             html = page.read().decode(\"utf-8\")\n",
    "#             soup = BeautifulSoup(html, \"html.parser\")\n",
    "#             seq[i] = soup.text\n",
    "#             break\n",
    "#         except:\n",
    "#             sleep(delay)\n",
    "#             delay *= 2\n",
    "            \n",
    "# for i in seq.keys():\n",
    "#     seq[i] = ''.join(seq[i].split(\"\\n\")[1:])"
   ]
  },
  {
   "cell_type": "code",
   "execution_count": null,
   "metadata": {},
   "outputs": [],
   "source": [
    "# # save prot_ID\n",
    "# file = open('prot_ID.txt', 'wt')\n",
    "# file.write(str(seq))\n",
    "# file.close()"
   ]
  },
  {
   "cell_type": "code",
   "execution_count": null,
   "metadata": {},
   "outputs": [],
   "source": [
    "# # load prot_ID\n",
    "file = open('prot_ID.txt', 'r')\n",
    "seq = ast.literal_eval(file.read())"
   ]
  },
  {
   "cell_type": "markdown",
   "metadata": {},
   "source": [
    "### Durg ID to Chemical Formula"
   ]
  },
  {
   "cell_type": "code",
   "execution_count": null,
   "metadata": {},
   "outputs": [],
   "source": [
    "db_seq = {}\n",
    "notFetched = []"
   ]
  },
  {
   "cell_type": "code",
   "execution_count": null,
   "metadata": {},
   "outputs": [],
   "source": [
    "# %%time\n",
    "\n",
    "# baseUrl = \"https://go.drugbank.com/drugs/\"\n",
    "\n",
    "# for i in (DB_ID):\n",
    "#     try:\n",
    "#         url = baseUrl + i\n",
    "#         req = Request(url , headers={'User-Agent': 'Mozilla/5.0'})\n",
    "#         page = urlopen(req)\n",
    "#         html = page.read().decode(\"utf-8\")\n",
    "#         soup = BeautifulSoup(html, \"html.parser\")\n",
    "\n",
    "#         d = soup.find_all(\"div\", attrs={\"class\": \"wrap\"})\n",
    "#         db_seq[i] = d[2].text\n",
    "#     except:\n",
    "#         notFetched.append(i)\n",
    "#         continue"
   ]
  },
  {
   "cell_type": "code",
   "execution_count": null,
   "metadata": {},
   "outputs": [],
   "source": [
    "# # save drug_ID\n",
    "# file = open('drug_ID.txt', 'wt')\n",
    "# file.write(str(db_seq))\n",
    "# file.close()"
   ]
  },
  {
   "cell_type": "code",
   "execution_count": null,
   "metadata": {},
   "outputs": [],
   "source": [
    "# # load drug_ID\n",
    "file = open('drug_ID.txt', 'r')\n",
    "db_seq = ast.literal_eval(file.read())"
   ]
  },
  {
   "cell_type": "markdown",
   "metadata": {},
   "source": [
    "### Replacing ID"
   ]
  },
  {
   "cell_type": "code",
   "execution_count": null,
   "metadata": {},
   "outputs": [],
   "source": [
    "df = pd.concat([pd.read_csv(\"initial_dataset/train.csv\")[[\"Drug_ID\", \"Protein_ID\", \"label\"]], \n",
    "                pd.read_csv(\"initial_dataset/val.csv\")[[\"Drug_ID\", \"Protein_ID\", \"label\"]], \n",
    "                pd.read_csv(\"initial_dataset/test.csv\")[[\"Drug_ID\", \"Protein_ID\", \"label\"]]])"
   ]
  },
  {
   "cell_type": "code",
   "execution_count": null,
   "metadata": {},
   "outputs": [],
   "source": [
    "df = df[df[\"Drug_ID\"].isin(set(list(db_seq.keys())))]"
   ]
  },
  {
   "cell_type": "code",
   "execution_count": null,
   "metadata": {},
   "outputs": [],
   "source": [
    "df = df[df[\"Protein_ID\"].isin(set(list(seq.keys())))]"
   ]
  },
  {
   "cell_type": "code",
   "execution_count": null,
   "metadata": {},
   "outputs": [],
   "source": [
    "newdf = pd.DataFrame(columns=[\"Drug\", \"Protien\", \"label\"]) \n",
    "newdf[\"Drug\"] = df[\"Drug_ID\"].apply(lambda x: db_seq[x])\n",
    "newdf[\"Protien\"] = df[\"Protein_ID\"].apply(lambda x: seq[x])\n",
    "newdf[\"label\"] = df[\"label\"]"
   ]
  },
  {
   "cell_type": "code",
   "execution_count": null,
   "metadata": {},
   "outputs": [],
   "source": [
    "newdf.head()"
   ]
  },
  {
   "cell_type": "code",
   "execution_count": null,
   "metadata": {},
   "outputs": [],
   "source": [
    "newdf.to_csv(\"preprocessed_data.csv\", index=False)"
   ]
  }
 ],
 "metadata": {
  "colab": {
   "provenance": []
  },
  "kernelspec": {
   "display_name": "Python 3",
   "language": "python",
   "name": "python3"
  },
  "language_info": {
   "codemirror_mode": {
    "name": "ipython",
    "version": 3
   },
   "file_extension": ".py",
   "mimetype": "text/x-python",
   "name": "python",
   "nbconvert_exporter": "python",
   "pygments_lexer": "ipython3",
   "version": "3.10.6"
  }
 },
 "nbformat": 4,
 "nbformat_minor": 1
}
