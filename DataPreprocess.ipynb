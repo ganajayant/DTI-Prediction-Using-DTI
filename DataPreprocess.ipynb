{
 "cells": [
  {
   "cell_type": "code",
   "execution_count": null,
   "metadata": {},
   "outputs": [],
   "source": [
    "import numpy as np\n",
    "import pandas as pd\n",
    "import pybel\n",
    "import torch\n",
    "from Bio.SeqUtils.ProtParam import ProteinAnalysis\n",
    "from rdkit import Chem\n",
    "from rdkit.Chem import AllChem\n"
   ]
  },
  {
   "cell_type": "code",
   "execution_count": null,
   "metadata": {},
   "outputs": [],
   "source": [
    "df = pd.read_csv('data.csv')\n",
    "df.head()\n"
   ]
  },
  {
   "cell_type": "code",
   "execution_count": null,
   "metadata": {},
   "outputs": [],
   "source": [
    "def aminoacids(sequence):\n",
    "    protein = ProteinAnalysis(sequence)\n",
    "    aa_composition = protein.get_amino_acids_percent()\n",
    "    feature_vector = np.array([aa_composition[aa]\n",
    "                              for aa in 'ACDEFGHIKLMNPQRSTVWY'])\n",
    "    mean = feature_vector.mean()\n",
    "    std = feature_vector.std()\n",
    "    feature_vector = (feature_vector - mean) / std\n",
    "    return feature_vector\n"
   ]
  },
  {
   "cell_type": "code",
   "execution_count": null,
   "metadata": {},
   "outputs": [],
   "source": [
    "data = df.values\n",
    "data = np.array(data)\n",
    "protiens = np.array([])\n",
    "drugs = np.array([])\n",
    "labels = np.array([])\n",
    "for i in range(data.shape[0]):\n",
    "    mol = Chem.MolFromSmiles(data[i, 0])\n",
    "    adj_matrix = AllChem.GetAdjacencyMatrix(mol)\n",
    "    protiens = np.append(protiens, adj_matrix)\n",
    "\n",
    "\n",
    "for i in range(data.shape[0]):\n",
    "    aminoacid = aminoacids(data[i, 1])\n",
    "    drugs = np.append(drugs, aminoacid)\n",
    "\n",
    "for i in range(data.shape[0]):\n",
    "    label = data[i, 2]\n",
    "    labels = np.append(labels, label)\n"
   ]
  }
 ],
 "metadata": {
  "kernelspec": {
   "display_name": "Python 3",
   "language": "python",
   "name": "python3"
  },
  "language_info": {
   "codemirror_mode": {
    "name": "ipython",
    "version": 3
   },
   "file_extension": ".py",
   "mimetype": "text/x-python",
   "name": "python",
   "nbconvert_exporter": "python",
   "pygments_lexer": "ipython3",
   "version": "3.10.6"
  },
  "orig_nbformat": 4
 },
 "nbformat": 4,
 "nbformat_minor": 2
}
